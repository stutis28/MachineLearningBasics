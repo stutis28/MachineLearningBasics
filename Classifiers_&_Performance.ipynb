{
  "nbformat": 4,
  "nbformat_minor": 0,
  "metadata": {
    "colab": {
      "name": "Classifiers & Performance.ipynb",
      "provenance": [],
      "authorship_tag": "ABX9TyOd/lnyEudJhRTypHQG0oZJ",
      "include_colab_link": true
    },
    "kernelspec": {
      "name": "python3",
      "display_name": "Python 3"
    }
  },
  "cells": [
    {
      "cell_type": "markdown",
      "metadata": {
        "id": "view-in-github",
        "colab_type": "text"
      },
      "source": [
        "<a href=\"https://colab.research.google.com/github/stutis28/MachineLearningBasics/blob/master/Classifiers_%26_Performance.ipynb\" target=\"_parent\"><img src=\"https://colab.research.google.com/assets/colab-badge.svg\" alt=\"Open In Colab\"/></a>"
      ]
    },
    {
      "cell_type": "code",
      "metadata": {
        "id": "ivWy0TMaXhzY",
        "colab_type": "code",
        "colab": {
          "base_uri": "https://localhost:8080/",
          "height": 204
        },
        "outputId": "6637a18f-57bf-4a84-bed4-76e9a32efb4f"
      },
      "source": [
        "import numpy as np\n",
        "import pandas as pd\n",
        "\n",
        "file_name = \"https://raw.githubusercontent.com/rajeevratan84/datascienceforbusiness/master/heights_weights.csv\"\n",
        "df = pd.read_csv(file_name)\n",
        "df.head()"
      ],
      "execution_count": 1,
      "outputs": [
        {
          "output_type": "execute_result",
          "data": {
            "text/html": [
              "<div>\n",
              "<style scoped>\n",
              "    .dataframe tbody tr th:only-of-type {\n",
              "        vertical-align: middle;\n",
              "    }\n",
              "\n",
              "    .dataframe tbody tr th {\n",
              "        vertical-align: top;\n",
              "    }\n",
              "\n",
              "    .dataframe thead th {\n",
              "        text-align: right;\n",
              "    }\n",
              "</style>\n",
              "<table border=\"1\" class=\"dataframe\">\n",
              "  <thead>\n",
              "    <tr style=\"text-align: right;\">\n",
              "      <th></th>\n",
              "      <th>Height</th>\n",
              "      <th>Weight</th>\n",
              "      <th>Male</th>\n",
              "    </tr>\n",
              "  </thead>\n",
              "  <tbody>\n",
              "    <tr>\n",
              "      <th>0</th>\n",
              "      <td>73.847017</td>\n",
              "      <td>241.893563</td>\n",
              "      <td>1</td>\n",
              "    </tr>\n",
              "    <tr>\n",
              "      <th>1</th>\n",
              "      <td>68.781904</td>\n",
              "      <td>162.310473</td>\n",
              "      <td>1</td>\n",
              "    </tr>\n",
              "    <tr>\n",
              "      <th>2</th>\n",
              "      <td>74.110105</td>\n",
              "      <td>212.740856</td>\n",
              "      <td>1</td>\n",
              "    </tr>\n",
              "    <tr>\n",
              "      <th>3</th>\n",
              "      <td>71.730978</td>\n",
              "      <td>220.042470</td>\n",
              "      <td>1</td>\n",
              "    </tr>\n",
              "    <tr>\n",
              "      <th>4</th>\n",
              "      <td>69.881796</td>\n",
              "      <td>206.349801</td>\n",
              "      <td>1</td>\n",
              "    </tr>\n",
              "  </tbody>\n",
              "</table>\n",
              "</div>"
            ],
            "text/plain": [
              "      Height      Weight  Male\n",
              "0  73.847017  241.893563     1\n",
              "1  68.781904  162.310473     1\n",
              "2  74.110105  212.740856     1\n",
              "3  71.730978  220.042470     1\n",
              "4  69.881796  206.349801     1"
            ]
          },
          "metadata": {
            "tags": []
          },
          "execution_count": 1
        }
      ]
    },
    {
      "cell_type": "code",
      "metadata": {
        "id": "tqMElw3Wbf7D",
        "colab_type": "code",
        "colab": {
          "base_uri": "https://localhost:8080/",
          "height": 34
        },
        "outputId": "84951280-6604-49c0-cbb1-db6c3f7ee724"
      },
      "source": [
        "df.shape"
      ],
      "execution_count": 2,
      "outputs": [
        {
          "output_type": "execute_result",
          "data": {
            "text/plain": [
              "(10000, 3)"
            ]
          },
          "metadata": {
            "tags": []
          },
          "execution_count": 2
        }
      ]
    },
    {
      "cell_type": "code",
      "metadata": {
        "id": "sPpo5B5Vb48N",
        "colab_type": "code",
        "colab": {
          "base_uri": "https://localhost:8080/",
          "height": 153
        },
        "outputId": "71c35e59-775b-4613-eab6-b8d86f154314"
      },
      "source": [
        "df.info()"
      ],
      "execution_count": 3,
      "outputs": [
        {
          "output_type": "stream",
          "text": [
            "<class 'pandas.core.frame.DataFrame'>\n",
            "RangeIndex: 10000 entries, 0 to 9999\n",
            "Data columns (total 3 columns):\n",
            "Height    10000 non-null float64\n",
            "Weight    10000 non-null float64\n",
            "Male      10000 non-null int64\n",
            "dtypes: float64(2), int64(1)\n",
            "memory usage: 234.5 KB\n"
          ],
          "name": "stdout"
        }
      ]
    },
    {
      "cell_type": "code",
      "metadata": {
        "id": "cVCSyp-lcFqo",
        "colab_type": "code",
        "colab": {
          "base_uri": "https://localhost:8080/",
          "height": 296
        },
        "outputId": "1e224e19-f9f7-48d8-e418-f310d8e15f96"
      },
      "source": [
        "import seaborn as sns\n",
        "import matplotlib.pyplot as plt\n",
        "\n",
        "sns.scatterplot(x = 'Height', y = 'Weight', hue = 'Male', data = df)"
      ],
      "execution_count": 4,
      "outputs": [
        {
          "output_type": "execute_result",
          "data": {
            "text/plain": [
              "<matplotlib.axes._subplots.AxesSubplot at 0x7f68b39d7550>"
            ]
          },
          "metadata": {
            "tags": []
          },
          "execution_count": 4
        },
        {
          "output_type": "display_data",
          "data": {
            "image/png": "[encoded data removed]",
            "text/plain": [
              "<Figure size 432x288 with 1 Axes>"
            ]
          },
          "metadata": {
            "tags": []
          }
        }
      ]
    },
    {
      "cell_type": "code",
      "metadata": {
        "id": "3cy-HQvWb7ZT",
        "colab_type": "code",
        "colab": {}
      },
      "source": [
        "x = df.iloc[:,0:2].values\n",
        "y = df.iloc[:,2].values"
      ],
      "execution_count": 0,
      "outputs": []
    },
    {
      "cell_type": "code",
      "metadata": {
        "id": "jz2Pgo3AcZhR",
        "colab_type": "code",
        "colab": {}
      },
      "source": [
        "from sklearn.model_selection import train_test_split\n",
        "\n",
        "X_train, X_test, Y_train,Y_test = train_test_split(x,y, test_size = 0.3, random_state = 0)"
      ],
      "execution_count": 0,
      "outputs": []
    },
    {
      "cell_type": "code",
      "metadata": {
        "id": "OetmS9x2clI2",
        "colab_type": "code",
        "colab": {}
      },
      "source": [
        "#Import models and performance assessment classes from sklearn\n",
        "from sklearn.linear_model import LogisticRegression\n",
        "from sklearn.ensemble import RandomForestClassifier\n",
        "from sklearn.svm import SVC\n",
        "from sklearn.neighbors import KNeighborsClassifier\n",
        "\n",
        "from sklearn.metrics import accuracy_score, classification_report, confusion_matrix"
      ],
      "execution_count": 0,
      "outputs": []
    },
    {
      "cell_type": "markdown",
      "metadata": {
        "id": "lFJPsrmRdNcy",
        "colab_type": "text"
      },
      "source": [
        "Logistic Regression Performance"
      ]
    },
    {
      "cell_type": "code",
      "metadata": {
        "id": "TnrGAwCxdH-8",
        "colab_type": "code",
        "colab": {
          "base_uri": "https://localhost:8080/",
          "height": 255
        },
        "outputId": "eabe9ce8-9b49-41e7-ec35-7cb7462b5494"
      },
      "source": [
        "logistic_classifier = LogisticRegression()\n",
        "logicistic_model = logistic_classifier.fit(X_train,Y_train)\n",
        "logistic_prediction = logistic_classifier.predict(X_test)\n",
        "\n",
        "print(\"Accuracy Score: {0:.2f}%\" .format(100*accuracy_score(logistic_prediction,Y_test)))\n",
        "print(\"Confusion Matrix: \")\n",
        "print(confusion_matrix(logistic_prediction,Y_test))\n",
        "print(\"Classification Report: \")\n",
        "print(classification_report(logistic_prediction,Y_test))"
      ],
      "execution_count": 14,
      "outputs": [
        {
          "output_type": "stream",
          "text": [
            "Accuracy Score: 91.87%\n",
            "Confusion Matrix: \n",
            "[[1385  140]\n",
            " [ 104 1371]]\n",
            "Classification Report: \n",
            "              precision    recall  f1-score   support\n",
            "\n",
            "           0       0.93      0.91      0.92      1525\n",
            "           1       0.91      0.93      0.92      1475\n",
            "\n",
            "    accuracy                           0.92      3000\n",
            "   macro avg       0.92      0.92      0.92      3000\n",
            "weighted avg       0.92      0.92      0.92      3000\n",
            "\n"
          ],
          "name": "stdout"
        }
      ]
    },
    {
      "cell_type": "markdown",
      "metadata": {
        "id": "oUz2ERAKh9UO",
        "colab_type": "text"
      },
      "source": [
        "Random Forest Performance"
      ]
    },
    {
      "cell_type": "code",
      "metadata": {
        "id": "_3RzcNgJe3oz",
        "colab_type": "code",
        "colab": {
          "base_uri": "https://localhost:8080/",
          "height": 255
        },
        "outputId": "8d190018-decf-494f-d57e-08596cfa357c"
      },
      "source": [
        "randomForest_classifier = RandomForestClassifier()\n",
        "randomForest_model = randomForest_classifier.fit(X_train,Y_train)\n",
        "randomForest_prediction = randomForest_classifier.predict(X_test)\n",
        "\n",
        "print(\"Accuracy Score: {0:.2f}%\" .format(100*accuracy_score(randomForest_prediction,Y_test)))\n",
        "print(\"Confusion Matrix: \")\n",
        "print(confusion_matrix(randomForest_prediction,Y_test))\n",
        "print(\"Classification Report: \")\n",
        "print(classification_report(randomForest_prediction,Y_test))"
      ],
      "execution_count": 16,
      "outputs": [
        {
          "output_type": "stream",
          "text": [
            "Accuracy Score: 90.40%\n",
            "Confusion Matrix: \n",
            "[[1374  173]\n",
            " [ 115 1338]]\n",
            "Classification Report: \n",
            "              precision    recall  f1-score   support\n",
            "\n",
            "           0       0.92      0.89      0.91      1547\n",
            "           1       0.89      0.92      0.90      1453\n",
            "\n",
            "    accuracy                           0.90      3000\n",
            "   macro avg       0.90      0.90      0.90      3000\n",
            "weighted avg       0.90      0.90      0.90      3000\n",
            "\n"
          ],
          "name": "stdout"
        }
      ]
    },
    {
      "cell_type": "markdown",
      "metadata": {
        "id": "pHG-C41VicqG",
        "colab_type": "text"
      },
      "source": [
        "Support Vector Machine Performance"
      ]
    },
    {
      "cell_type": "code",
      "metadata": {
        "id": "Y1b33CHdiW5R",
        "colab_type": "code",
        "colab": {
          "base_uri": "https://localhost:8080/",
          "height": 255
        },
        "outputId": "db3ed9b0-2f27-44c3-c28d-b7279001a8a6"
      },
      "source": [
        "svm_classifier = SVC()\n",
        "svm_model = svm_classifier.fit(X_train,Y_train)\n",
        "svm_prediction = svm_classifier.predict(X_test)\n",
        "\n",
        "print(\"Accuracy Score: {0:.2f}%\" .format(100*accuracy_score(svm_prediction,Y_test)))\n",
        "print(\"Confusion Matrix: \")\n",
        "print(confusion_matrix(svm_prediction,Y_test))\n",
        "print(\"Classification Report: \")\n",
        "print(classification_report(svm_prediction,Y_test))"
      ],
      "execution_count": 17,
      "outputs": [
        {
          "output_type": "stream",
          "text": [
            "Accuracy Score: 91.40%\n",
            "Confusion Matrix: \n",
            "[[1382  151]\n",
            " [ 107 1360]]\n",
            "Classification Report: \n",
            "              precision    recall  f1-score   support\n",
            "\n",
            "           0       0.93      0.90      0.91      1533\n",
            "           1       0.90      0.93      0.91      1467\n",
            "\n",
            "    accuracy                           0.91      3000\n",
            "   macro avg       0.91      0.91      0.91      3000\n",
            "weighted avg       0.91      0.91      0.91      3000\n",
            "\n"
          ],
          "name": "stdout"
        }
      ]
    },
    {
      "cell_type": "markdown",
      "metadata": {
        "id": "C_cLVWjqlD9k",
        "colab_type": "text"
      },
      "source": [
        "KNN Classifier Performance"
      ]
    },
    {
      "cell_type": "code",
      "metadata": {
        "id": "snb-QM01k7HP",
        "colab_type": "code",
        "colab": {
          "base_uri": "https://localhost:8080/",
          "height": 255
        },
        "outputId": "f9e0a1c0-f0bf-46c6-c8e6-c282b2b55f1e"
      },
      "source": [
        "knn_Classifier = KNeighborsClassifier()\n",
        "knn_model = knn_Classifier.fit(X_train,Y_train)\n",
        "knn_prediction = knn_Classifier.predict(X_test)\n",
        "\n",
        "print(\"Accuracy Score: {0:.2f}%\" .format(100*accuracy_score(knn_prediction,Y_test)))\n",
        "print(\"Confusion Matrix: \")\n",
        "print(confusion_matrix(knn_prediction,Y_test))\n",
        "print(\"Classification Report: \")\n",
        "print(classification_report(knn_prediction,Y_test))"
      ],
      "execution_count": 19,
      "outputs": [
        {
          "output_type": "stream",
          "text": [
            "Accuracy Score: 90.27%\n",
            "Confusion Matrix: \n",
            "[[1367  170]\n",
            " [ 122 1341]]\n",
            "Classification Report: \n",
            "              precision    recall  f1-score   support\n",
            "\n",
            "           0       0.92      0.89      0.90      1537\n",
            "           1       0.89      0.92      0.90      1463\n",
            "\n",
            "    accuracy                           0.90      3000\n",
            "   macro avg       0.90      0.90      0.90      3000\n",
            "weighted avg       0.90      0.90      0.90      3000\n",
            "\n"
          ],
          "name": "stdout"
        }
      ]
    },
    {
      "cell_type": "code",
      "metadata": {
        "id": "OdTZ8cHelV34",
        "colab_type": "code",
        "colab": {}
      },
      "source": [
        ""
      ],
      "execution_count": 0,
      "outputs": []
    }
  ]
}